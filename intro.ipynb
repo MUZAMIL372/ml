{
 "cells": [
  {
   "cell_type": "markdown",
   "id": "53b40e0f",
   "metadata": {},
   "source": [
    "hey this is my first code"
   ]
  },
  {
   "cell_type": "code",
   "execution_count": 1,
   "id": "a5c011a3",
   "metadata": {},
   "outputs": [
    {
     "name": "stdout",
     "output_type": "stream",
     "text": [
      "hii\n"
     ]
    }
   ],
   "source": [
    "print(\"hii\")"
   ]
  }
 ],
 "metadata": {
  "kernelspec": {
   "display_name": "base",
   "language": "python",
   "name": "python3"
  },
  "language_info": {
   "codemirror_mode": {
    "name": "ipython",
    "version": 3
   },
   "file_extension": ".py",
   "mimetype": "text/x-python",
   "name": "python",
   "nbconvert_exporter": "python",
   "pygments_lexer": "ipython3",
   "version": "3.12.4"
  }
 },
 "nbformat": 4,
 "nbformat_minor": 5
}
